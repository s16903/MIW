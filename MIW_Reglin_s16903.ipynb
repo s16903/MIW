{
 "cells": [
  {
   "cell_type": "code",
   "execution_count": 1,
   "metadata": {},
   "outputs": [],
   "source": [
    "import pandas as pd\n",
    "import numpy as np\n",
    "import matplotlib.pyplot as plt\n",
    "from sklearn import linear_model\n",
    "# Mykola Krupennyi, dane8.txt"
   ]
  },
  {
   "cell_type": "code",
   "execution_count": 2,
   "metadata": {},
   "outputs": [
    {
     "data": {
      "text/html": [
       "<div>\n",
       "<style scoped>\n",
       "    .dataframe tbody tr th:only-of-type {\n",
       "        vertical-align: middle;\n",
       "    }\n",
       "\n",
       "    .dataframe tbody tr th {\n",
       "        vertical-align: top;\n",
       "    }\n",
       "\n",
       "    .dataframe thead th {\n",
       "        text-align: right;\n",
       "    }\n",
       "</style>\n",
       "<table border=\"1\" class=\"dataframe\">\n",
       "  <thead>\n",
       "    <tr style=\"text-align: right;\">\n",
       "      <th></th>\n",
       "      <th>X</th>\n",
       "      <th>Y</th>\n",
       "      <th>Z</th>\n",
       "    </tr>\n",
       "  </thead>\n",
       "  <tbody>\n",
       "    <tr>\n",
       "      <th>0</th>\n",
       "      <td>-3.0</td>\n",
       "      <td>-0.094899</td>\n",
       "      <td>NaN</td>\n",
       "    </tr>\n",
       "    <tr>\n",
       "      <th>1</th>\n",
       "      <td>-2.9</td>\n",
       "      <td>-0.105199</td>\n",
       "      <td>NaN</td>\n",
       "    </tr>\n",
       "    <tr>\n",
       "      <th>2</th>\n",
       "      <td>-2.8</td>\n",
       "      <td>-0.323964</td>\n",
       "      <td>NaN</td>\n",
       "    </tr>\n",
       "    <tr>\n",
       "      <th>3</th>\n",
       "      <td>-2.7</td>\n",
       "      <td>-0.259642</td>\n",
       "      <td>NaN</td>\n",
       "    </tr>\n",
       "    <tr>\n",
       "      <th>4</th>\n",
       "      <td>-2.6</td>\n",
       "      <td>-0.177632</td>\n",
       "      <td>NaN</td>\n",
       "    </tr>\n",
       "    <tr>\n",
       "      <th>5</th>\n",
       "      <td>-2.5</td>\n",
       "      <td>-0.226139</td>\n",
       "      <td>NaN</td>\n",
       "    </tr>\n",
       "    <tr>\n",
       "      <th>6</th>\n",
       "      <td>-2.4</td>\n",
       "      <td>-0.185592</td>\n",
       "      <td>NaN</td>\n",
       "    </tr>\n",
       "    <tr>\n",
       "      <th>7</th>\n",
       "      <td>-2.3</td>\n",
       "      <td>-0.074632</td>\n",
       "      <td>NaN</td>\n",
       "    </tr>\n",
       "    <tr>\n",
       "      <th>8</th>\n",
       "      <td>-2.2</td>\n",
       "      <td>-0.282650</td>\n",
       "      <td>NaN</td>\n",
       "    </tr>\n",
       "    <tr>\n",
       "      <th>9</th>\n",
       "      <td>-2.1</td>\n",
       "      <td>-0.047486</td>\n",
       "      <td>NaN</td>\n",
       "    </tr>\n",
       "  </tbody>\n",
       "</table>\n",
       "</div>"
      ],
      "text/plain": [
       "     X         Y   Z\n",
       "0 -3.0 -0.094899 NaN\n",
       "1 -2.9 -0.105199 NaN\n",
       "2 -2.8 -0.323964 NaN\n",
       "3 -2.7 -0.259642 NaN\n",
       "4 -2.6 -0.177632 NaN\n",
       "5 -2.5 -0.226139 NaN\n",
       "6 -2.4 -0.185592 NaN\n",
       "7 -2.3 -0.074632 NaN\n",
       "8 -2.2 -0.282650 NaN\n",
       "9 -2.1 -0.047486 NaN"
      ]
     },
     "execution_count": 2,
     "metadata": {},
     "output_type": "execute_result"
    }
   ],
   "source": [
    "cols=['X','Y','Z']\n",
    "# have to provide Z value, because separation finds space after Y and creates another column\n",
    "\n",
    "df = pd.read_csv(\"dane8.txt\", sep=\" \", names=cols, header=None)\n",
    "\n",
    "df.head(10)"
   ]
  },
  {
   "cell_type": "code",
   "execution_count": 3,
   "metadata": {},
   "outputs": [
    {
     "data": {
      "text/html": [
       "<div>\n",
       "<style scoped>\n",
       "    .dataframe tbody tr th:only-of-type {\n",
       "        vertical-align: middle;\n",
       "    }\n",
       "\n",
       "    .dataframe tbody tr th {\n",
       "        vertical-align: top;\n",
       "    }\n",
       "\n",
       "    .dataframe thead th {\n",
       "        text-align: right;\n",
       "    }\n",
       "</style>\n",
       "<table border=\"1\" class=\"dataframe\">\n",
       "  <thead>\n",
       "    <tr style=\"text-align: right;\">\n",
       "      <th></th>\n",
       "      <th>X</th>\n",
       "      <th>Y</th>\n",
       "    </tr>\n",
       "  </thead>\n",
       "  <tbody>\n",
       "    <tr>\n",
       "      <th>0</th>\n",
       "      <td>-3.0</td>\n",
       "      <td>-0.094899</td>\n",
       "    </tr>\n",
       "    <tr>\n",
       "      <th>1</th>\n",
       "      <td>-2.9</td>\n",
       "      <td>-0.105199</td>\n",
       "    </tr>\n",
       "    <tr>\n",
       "      <th>2</th>\n",
       "      <td>-2.8</td>\n",
       "      <td>-0.323964</td>\n",
       "    </tr>\n",
       "    <tr>\n",
       "      <th>3</th>\n",
       "      <td>-2.7</td>\n",
       "      <td>-0.259642</td>\n",
       "    </tr>\n",
       "    <tr>\n",
       "      <th>4</th>\n",
       "      <td>-2.6</td>\n",
       "      <td>-0.177632</td>\n",
       "    </tr>\n",
       "  </tbody>\n",
       "</table>\n",
       "</div>"
      ],
      "text/plain": [
       "     X         Y\n",
       "0 -3.0 -0.094899\n",
       "1 -2.9 -0.105199\n",
       "2 -2.8 -0.323964\n",
       "3 -2.7 -0.259642\n",
       "4 -2.6 -0.177632"
      ]
     },
     "execution_count": 3,
     "metadata": {},
     "output_type": "execute_result"
    }
   ],
   "source": [
    "#drop Z column\n",
    "df.drop(df.columns[2], axis=1, inplace=True)\n",
    "df.head()"
   ]
  },
  {
   "cell_type": "code",
   "execution_count": 4,
   "metadata": {},
   "outputs": [
    {
     "data": {
      "text/plain": [
       "<matplotlib.collections.PathCollection at 0x155d073f848>"
      ]
     },
     "execution_count": 4,
     "metadata": {},
     "output_type": "execute_result"
    },
    {
     "data": {
      "image/png": "[encoded data removed]",
      "text/plain": [
       "<Figure size 432x288 with 1 Axes>"
      ]
     },
     "metadata": {
      "needs_background": "light"
     },
     "output_type": "display_data"
    }
   ],
   "source": [
    "%matplotlib inline\n",
    "plt.scatter(df.X, df.Y)"
   ]
  },
  {
   "cell_type": "code",
   "execution_count": 5,
   "metadata": {},
   "outputs": [
    {
     "data": {
      "text/plain": [
       "<matplotlib.collections.PathCollection at 0x155d0791fc8>"
      ]
     },
     "execution_count": 5,
     "metadata": {},
     "output_type": "execute_result"
    },
    {
     "data": {
      "image/png": "[encoded data removed]",
      "text/plain": [
       "<Figure size 432x288 with 1 Axes>"
      ]
     },
     "metadata": {
      "needs_background": "light"
     },
     "output_type": "display_data"
    }
   ],
   "source": [
    "# divide data into train and test arrays\n",
    "# every third element is added to test list and not considered in training\n",
    "\n",
    "test_X = []\n",
    "test_Y = []\n",
    "train_X = []\n",
    "train_Y = []\n",
    "\n",
    "for i in range(len(df.X)):\n",
    "    if(i%3==0):\n",
    "        test_X.append(df.X[i])\n",
    "        test_Y.append(df.Y[i])                  \n",
    "    else:\n",
    "        train_X.append(df.X[i])\n",
    "        train_Y.append(df.Y[i])\n",
    "        \n",
    "test=[test_X, test_Y]\n",
    "train=[train_X, train_Y]\n",
    "\n",
    "plt.scatter(train_X, train_Y)\n",
    "plt.scatter(test_X, test_Y, color='red')"
   ]
  },
  {
   "cell_type": "code",
   "execution_count": 6,
   "metadata": {},
   "outputs": [
    {
     "name": "stdout",
     "output_type": "stream",
     "text": [
      "(0.38403082060100163, 1.3133910959999997)\n"
     ]
    }
   ],
   "source": [
    "# training model using Least Squares\n",
    "\n",
    "def least_squares(X, Y):\n",
    "    X_mean = np.mean(X)\n",
    "    Y_mean = np.mean(Y)\n",
    "    num = 0\n",
    "    den = 0\n",
    "    for i in range(len(X)):\n",
    "        num += (X[i] - X_mean)*(Y[i] - Y_mean)\n",
    "        den += (X[i] - X_mean)**2\n",
    "    m = num / den\n",
    "    c = Y_mean - m*X_mean\n",
    "    return m,c\n",
    "\n",
    "print(least_squares(train_X,train_Y))"
   ]
  },
  {
   "cell_type": "code",
   "execution_count": 97,
   "metadata": {},
   "outputs": [
    {
     "data": {
      "image/png": "[encoded data removed]",
      "text/plain": [
       "<Figure size 432x288 with 1 Axes>"
      ]
     },
     "metadata": {
      "needs_background": "light"
     },
     "output_type": "display_data"
    }
   ],
   "source": [
    "# making a prediction\n",
    "\n",
    "n = len(test_X) \n",
    "Y_pred = np.empty(n)\n",
    "m, c =least_squares(train_X,train_Y)\n",
    "\n",
    "for i in range(n):\n",
    "    Y_pred[i] = m*test_X[i] + c\n",
    "\n",
    "plt.scatter(test_X, test_Y) # actual\n",
    "plt.plot([min(test_X), max(test_X)], [min(Y_pred), max(Y_pred)], color='red') # predicted\n",
    "plt.show()\n",
    "\n",
    "# obviously this is not perfect solution for this dataset"
   ]
  },
  {
   "cell_type": "code",
   "execution_count": 141,
   "metadata": {},
   "outputs": [
    {
     "data": {
      "image/png": "[encoded data removed]",
      "text/plain": [
       "<Figure size 432x288 with 1 Axes>"
      ]
     },
     "metadata": {
      "needs_background": "light"
     },
     "output_type": "display_data"
    }
   ],
   "source": [
    "# Modification of previous model\n",
    "n_train = len(train_X) \n",
    "n_test = len(test_X)\n",
    "Y_pred2 = np.empty(n_test)\n",
    "\n",
    "# we will divide our data into p parts\n",
    "# and chek m and c values for every section\n",
    "\n",
    "def lsq_p(p):\n",
    "    part_counter = 1 \n",
    "\n",
    "    m,c = least_squares(train_X[:int(n_train/p)],train_Y[:int(n_train/p)])\n",
    "    for i in range(n_test):\n",
    "        Y_pred2[i] = m*test_X[i] + c\n",
    "        if(i>=n_test/(p/part_counter)):\n",
    "            m,c = least_squares(train_X[int(part_counter*n_train/p):int((part_counter+1)*n_train/p)],\n",
    "                                train_Y[int(part_counter*n_train/p):int((part_counter+1)*n_train/p)])\n",
    "            part_counter+=1\n",
    "    return Y_pred2\n",
    "\n",
    "\n",
    "\n",
    "#here is result for division into 3 parts\n",
    "Y_pred2 = lsq_p(3)\n",
    "\n",
    "plt.scatter(test_X, test_Y)\n",
    "plt.plot(test_X, Y_pred2, color='red') \n",
    "plt.show()\n"
   ]
  },
  {
   "cell_type": "code",
   "execution_count": 156,
   "metadata": {},
   "outputs": [
    {
     "data": {
      "image/png": "[encoded data removed]",
      "text/plain": [
       "<Figure size 432x288 with 1 Axes>"
      ]
     },
     "metadata": {
      "needs_background": "light"
     },
     "output_type": "display_data"
    }
   ],
   "source": [
    "# now we can check how this method works with other parameters\n",
    "\n",
    "plt.scatter(test_X, test_Y, )\n",
    "plt.plot(test_X, lsq_p(1), color='green')\n",
    "# if p = 1 the result will be as in the first model\n",
    "plt.plot(test_X, lsq_p(5), color='yellow') \n",
    "# could be even better than result with p = 3\n",
    "plt.plot(test_X, lsq_p(18), color='purple') \n",
    "# that shows that bigger separations is not perfect solution neither\n",
    "plt.show()"
   ]
  },
  {
   "cell_type": "code",
   "execution_count": null,
   "metadata": {},
   "outputs": [],
   "source": []
  }
 ],
 "metadata": {
  "kernelspec": {
   "display_name": "Python 3",
   "language": "python",
   "name": "python3"
  },
  "language_info": {
   "codemirror_mode": {
    "name": "ipython",
    "version": 3
   },
   "file_extension": ".py",
   "mimetype": "text/x-python",
   "name": "python",
   "nbconvert_exporter": "python",
   "pygments_lexer": "ipython3",
   "version": "3.7.6"
  }
 },
 "nbformat": 4,
 "nbformat_minor": 4
}
